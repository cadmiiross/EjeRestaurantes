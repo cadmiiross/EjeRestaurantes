{
  "nbformat": 4,
  "nbformat_minor": 0,
  "metadata": {
    "colab": {
      "name": "Pipeline.ipynb",
      "provenance": [],
      "collapsed_sections": [],
      "authorship_tag": "ABX9TyNIqM24X5oyCHzbvFXvpcFG",
      "include_colab_link": true
    },
    "kernelspec": {
      "display_name": "Python 3",
      "name": "python3"
    },
    "language_info": {
      "name": "python"
    }
  },
  "cells": [
    {
      "cell_type": "markdown",
      "metadata": {
        "id": "view-in-github",
        "colab_type": "text"
      },
      "source": [
        "<a href=\"https://colab.research.google.com/github/cadmiiross/EjeRestaurantes/blob/main/Pipeline.ipynb\" target=\"_parent\"><img src=\"https://colab.research.google.com/assets/colab-badge.svg\" alt=\"Open In Colab\"/></a>"
      ]
    },
    {
      "cell_type": "code",
      "metadata": {
        "colab": {
          "base_uri": "https://localhost:8080/"
        },
        "id": "l8ooad7XL29M",
        "outputId": "3f84aa5c-602e-4f63-c6c6-1653c2f9da6d"
      },
      "source": [
        "pip install pyspark"
      ],
      "execution_count": 1,
      "outputs": [
        {
          "output_type": "stream",
          "name": "stdout",
          "text": [
            "Collecting pyspark\n",
            "  Downloading pyspark-3.2.0.tar.gz (281.3 MB)\n",
            "\u001b[K     |████████████████████████████████| 281.3 MB 37 kB/s \n",
            "\u001b[?25hCollecting py4j==0.10.9.2\n",
            "  Downloading py4j-0.10.9.2-py2.py3-none-any.whl (198 kB)\n",
            "\u001b[K     |████████████████████████████████| 198 kB 1.3 MB/s \n",
            "\u001b[?25hBuilding wheels for collected packages: pyspark\n",
            "  Building wheel for pyspark (setup.py) ... \u001b[?25l\u001b[?25hdone\n",
            "  Created wheel for pyspark: filename=pyspark-3.2.0-py2.py3-none-any.whl size=281805912 sha256=8e33587b981b4585dd4679a08ca393426e1fb97359f2555863b894651b408cc2\n",
            "  Stored in directory: /root/.cache/pip/wheels/0b/de/d2/9be5d59d7331c6c2a7c1b6d1a4f463ce107332b1ecd4e80718\n",
            "Successfully built pyspark\n",
            "Installing collected packages: py4j, pyspark\n",
            "Successfully installed py4j-0.10.9.2 pyspark-3.2.0\n"
          ]
        }
      ]
    },
    {
      "cell_type": "markdown",
      "metadata": {
        "id": "hl7UsoGSQtJd"
      },
      "source": [
        "Leer el csv\n",
        "Crear un objeto de tipo DataFrameReader usando la propiedad spark.read\n",
        "Crear un objeto de lectura especificando los headers."
      ]
    },
    {
      "cell_type": "code",
      "metadata": {
        "colab": {
          "base_uri": "https://localhost:8080/"
        },
        "id": "EP4V_xjLRH4D",
        "outputId": "07ebadd8-38ee-43b7-c8dd-dccd8ada27ff"
      },
      "source": [
        "from pyspark.sql import SparkSession\n",
        "spark = SparkSession.builder.getOrCreate()\n",
        "\n",
        "prices = spark.read.csv(\"prices.csv\")\n",
        "prices.show()"
      ],
      "execution_count": 2,
      "outputs": [
        {
          "output_type": "stream",
          "name": "stdout",
          "text": [
            "+---------+-----------+------------+-------+-----+--------+--------+----------+\n",
            "|      _c0|        _c1|         _c2|    _c3|  _c4|     _c5|     _c6|       _c7|\n",
            "+---------+-----------+------------+-------+-----+--------+--------+----------+\n",
            "|    store|countrycode|       brand|  model|price|currency|quantity|      date|\n",
            "|     Aldi|         BE|Diapers-R-Us|6months|  6.8|     EUR|      40|03/02/2019|\n",
            "| Kruidvat|         BE|     Nappy-k|2months|  4.8|     EUR|      30|28/01/2019|\n",
            "|Carrefour|         FR|     Nappy-k|2months|  5.7|     EUR|   30.00|06/02/2019|\n",
            "| Kruidvat|         NL|     Nappy-k|2months|  5.6|     EUR|      40|15/02/2019|\n",
            "|    Tesco|        IRL|     Pampers|3months|  6.3|     EUR|      35|07/02/2019|\n",
            "|       DM|         DE|     Huggies|newborn|  6.8|     EUR|      40|01/02/2019|\n",
            "|       DM|         AT|     Huggies|newborn|  7.2|     EUR|      40|01/02/2019|\n",
            "+---------+-----------+------------+-------+-----+--------+--------+----------+\n",
            "\n"
          ]
        }
      ]
    },
    {
      "cell_type": "code",
      "metadata": {
        "colab": {
          "base_uri": "https://localhost:8080/"
        },
        "id": "p9EjddqCS1Ry",
        "outputId": "6a4f3f2a-e84b-4e03-9930-b233d3c71c70"
      },
      "source": [
        "prices = spark.read.options(header=\"true\").csv(\"prices.csv\")\n",
        "prices.show()"
      ],
      "execution_count": 3,
      "outputs": [
        {
          "output_type": "stream",
          "name": "stdout",
          "text": [
            "+---------+-----------+------------+-------+-----+--------+--------+----------+\n",
            "|    store|countrycode|       brand|  model|price|currency|quantity|      date|\n",
            "+---------+-----------+------------+-------+-----+--------+--------+----------+\n",
            "|     Aldi|         BE|Diapers-R-Us|6months|  6.8|     EUR|      40|03/02/2019|\n",
            "| Kruidvat|         BE|     Nappy-k|2months|  4.8|     EUR|      30|28/01/2019|\n",
            "|Carrefour|         FR|     Nappy-k|2months|  5.7|     EUR|   30.00|06/02/2019|\n",
            "| Kruidvat|         NL|     Nappy-k|2months|  5.6|     EUR|      40|15/02/2019|\n",
            "|    Tesco|        IRL|     Pampers|3months|  6.3|     EUR|      35|07/02/2019|\n",
            "|       DM|         DE|     Huggies|newborn|  6.8|     EUR|      40|01/02/2019|\n",
            "|       DM|         AT|     Huggies|newborn|  7.2|     EUR|      40|01/02/2019|\n",
            "+---------+-----------+------------+-------+-----+--------+--------+----------+\n",
            "\n"
          ]
        }
      ]
    },
    {
      "cell_type": "markdown",
      "metadata": {
        "id": "A7PDcrJOTXVK"
      },
      "source": [
        "Mostrar los tipos de datos que tiene el dataset"
      ]
    },
    {
      "cell_type": "code",
      "metadata": {
        "colab": {
          "base_uri": "https://localhost:8080/"
        },
        "id": "wy_LcbhUTftu",
        "outputId": "d4a45053-2831-4641-a09e-c6ebbb1dfcac"
      },
      "source": [
        "from pprint import pprint\n",
        "pprint(prices.dtypes)"
      ],
      "execution_count": 4,
      "outputs": [
        {
          "output_type": "stream",
          "name": "stdout",
          "text": [
            "[('store', 'string'),\n",
            " ('countrycode', 'string'),\n",
            " ('brand', 'string'),\n",
            " ('model', 'string'),\n",
            " ('price', 'string'),\n",
            " ('currency', 'string'),\n",
            " ('quantity', 'string'),\n",
            " ('date', 'string')]\n"
          ]
        }
      ]
    },
    {
      "cell_type": "markdown",
      "metadata": {
        "id": "mPRBEFtnVpan"
      },
      "source": [
        "Definir un esquema de tipos de datos adecuado"
      ]
    },
    {
      "cell_type": "code",
      "metadata": {
        "colab": {
          "base_uri": "https://localhost:8080/"
        },
        "id": "Rs69YcncVu1q",
        "outputId": "25bec5f9-f776-4580-feb0-1fb36e545f15"
      },
      "source": [
        "from pyspark.sql.types import *\n",
        "schema = StructType([StructField(\"store\", StringType(), nullable=False), \n",
        "                     StructField(\"countrycode\", StringType(), nullable=False), \n",
        "                     StructField(\"brand\", StringType(), nullable=False),\n",
        "                     StructField(\"model\", StringType(), nullable=False),\n",
        "                     StructField(\"price\", FloatType(), nullable=False),\n",
        "                     StructField(\"currency\", StringType(), nullable=True),\n",
        "                     StructField(\"quantity\", IntegerType(), nullable=True),\n",
        "                     StructField(\"date\", DateType(), nullable=False),])\n",
        "\n",
        "\n",
        "prices = spark.read.schema(schema).options(header=\"true\").csv(\"prices.csv\")\n",
        "pprint(prices.dtypes)\n",
        "prices.show()"
      ],
      "execution_count": 5,
      "outputs": [
        {
          "output_type": "stream",
          "name": "stdout",
          "text": [
            "[('store', 'string'),\n",
            " ('countrycode', 'string'),\n",
            " ('brand', 'string'),\n",
            " ('model', 'string'),\n",
            " ('price', 'float'),\n",
            " ('currency', 'string'),\n",
            " ('quantity', 'int'),\n",
            " ('date', 'date')]\n",
            "+---------+-----------+------------+-------+-----+--------+--------+----+\n",
            "|    store|countrycode|       brand|  model|price|currency|quantity|date|\n",
            "+---------+-----------+------------+-------+-----+--------+--------+----+\n",
            "|     Aldi|         BE|Diapers-R-Us|6months|  6.8|     EUR|      40|null|\n",
            "| Kruidvat|         BE|     Nappy-k|2months|  4.8|     EUR|      30|null|\n",
            "|Carrefour|         FR|     Nappy-k|2months|  5.7|     EUR|    null|null|\n",
            "| Kruidvat|         NL|     Nappy-k|2months|  5.6|     EUR|      40|null|\n",
            "|    Tesco|        IRL|     Pampers|3months|  6.3|     EUR|      35|null|\n",
            "|       DM|         DE|     Huggies|newborn|  6.8|     EUR|      40|null|\n",
            "|       DM|         AT|     Huggies|newborn|  7.2|     EUR|      40|null|\n",
            "+---------+-----------+------------+-------+-----+--------+--------+----+\n",
            "\n"
          ]
        }
      ]
    },
    {
      "cell_type": "markdown",
      "metadata": {
        "id": "1CCgg7CFcZRr"
      },
      "source": [
        "Eliminar las filas erroneas"
      ]
    },
    {
      "cell_type": "code",
      "metadata": {
        "colab": {
          "base_uri": "https://localhost:8080/"
        },
        "id": "VVz5HS9BcUFG",
        "outputId": "6e13b6e0-876e-4007-e0f5-080db0fdf600"
      },
      "source": [
        "pricesRowsRemoved = spark.read.schema(schema).options(header=\"true\", mode=\"DROPMALFORMED\").csv(\"prices.csv\")\n",
        "pricesRowsRemoved.show()"
      ],
      "execution_count": 6,
      "outputs": [
        {
          "output_type": "stream",
          "name": "stdout",
          "text": [
            "+-----+-----------+-----+-----+-----+--------+--------+----+\n",
            "|store|countrycode|brand|model|price|currency|quantity|date|\n",
            "+-----+-----------+-----+-----+-----+--------+--------+----+\n",
            "+-----+-----------+-----+-----+-----+--------+--------+----+\n",
            "\n"
          ]
        }
      ]
    },
    {
      "cell_type": "code",
      "metadata": {
        "colab": {
          "base_uri": "https://localhost:8080/"
        },
        "id": "1VS43j42cIVr",
        "outputId": "292d8290-3451-4711-e672-cd8e78a834b5"
      },
      "source": [
        "pricesRowsRemoved = spark.read.schema(schema).options(header=\"true\", mode=\"DROPMALFORMED\", dateformat = \"dd/MM/yyyy\").csv(\"prices.csv\")\n",
        "pprint(pricesRowsRemoved.dtypes)\n",
        "pricesRowsRemoved.show()"
      ],
      "execution_count": 7,
      "outputs": [
        {
          "output_type": "stream",
          "name": "stdout",
          "text": [
            "[('store', 'string'),\n",
            " ('countrycode', 'string'),\n",
            " ('brand', 'string'),\n",
            " ('model', 'string'),\n",
            " ('price', 'float'),\n",
            " ('currency', 'string'),\n",
            " ('quantity', 'int'),\n",
            " ('date', 'date')]\n",
            "+--------+-----------+------------+-------+-----+--------+--------+----------+\n",
            "|   store|countrycode|       brand|  model|price|currency|quantity|      date|\n",
            "+--------+-----------+------------+-------+-----+--------+--------+----------+\n",
            "|    Aldi|         BE|Diapers-R-Us|6months|  6.8|     EUR|      40|2019-02-03|\n",
            "|Kruidvat|         BE|     Nappy-k|2months|  4.8|     EUR|      30|2019-01-28|\n",
            "|Kruidvat|         NL|     Nappy-k|2months|  5.6|     EUR|      40|2019-02-15|\n",
            "|   Tesco|        IRL|     Pampers|3months|  6.3|     EUR|      35|2019-02-07|\n",
            "|      DM|         DE|     Huggies|newborn|  6.8|     EUR|      40|2019-02-01|\n",
            "|      DM|         AT|     Huggies|newborn|  7.2|     EUR|      40|2019-02-01|\n",
            "+--------+-----------+------------+-------+-----+--------+--------+----------+\n",
            "\n"
          ]
        }
      ]
    },
    {
      "cell_type": "markdown",
      "metadata": {
        "id": "Kh03K6LnekQZ"
      },
      "source": [
        "Rellenar valores vacios"
      ]
    },
    {
      "cell_type": "code",
      "metadata": {
        "colab": {
          "base_uri": "https://localhost:8080/"
        },
        "id": "rM-NqK3beoDT",
        "outputId": "2df53791-0139-47c7-b1dc-dc4e37c56534"
      },
      "source": [
        "prices3 = spark.read.options(header=\"true\").schema(schema).csv(\"prices3.csv\") #dateFormat=\"dd/MM/yyyy\"\n",
        "prices3.show()\n",
        "prices3.fillna(40, subset=[\"quantity\"]).show()\n",
        "#varios datos vacios---> prices3.fillna({\"quantity\":40, \"date\":01/03/1990}).show()"
      ],
      "execution_count": 8,
      "outputs": [
        {
          "output_type": "stream",
          "name": "stdout",
          "text": [
            "+---------+-----------+------------+-------+-----+--------+--------+----+\n",
            "|    store|countrycode|       brand|  model|price|currency|quantity|date|\n",
            "+---------+-----------+------------+-------+-----+--------+--------+----+\n",
            "|     Aldi|         BE|Diapers-R-Us|6months|  6.8|     EUR|    null|null|\n",
            "| Kruidvat|         BE|     Nappy-k|2months|  4.8|     EUR|      30|null|\n",
            "|Carrefour|         FR|     Nappy-k|2months|  5.7|     EUR|      30|null|\n",
            "| Kruidvat|         NL|     Nappy-k|2months|  5.6|     EUR|    null|null|\n",
            "|    Tesco|        IRL|     Pampers|3months|  6.3|     EUR|      35|null|\n",
            "|       DM|         DE|     Huggies|newborn|  6.8|     EUR|    null|null|\n",
            "|       DM|         AT|     Huggies|newborn|  7.2|     EUR|    null|null|\n",
            "+---------+-----------+------------+-------+-----+--------+--------+----+\n",
            "\n",
            "+---------+-----------+------------+-------+-----+--------+--------+----+\n",
            "|    store|countrycode|       brand|  model|price|currency|quantity|date|\n",
            "+---------+-----------+------------+-------+-----+--------+--------+----+\n",
            "|     Aldi|         BE|Diapers-R-Us|6months|  6.8|     EUR|      40|null|\n",
            "| Kruidvat|         BE|     Nappy-k|2months|  4.8|     EUR|      30|null|\n",
            "|Carrefour|         FR|     Nappy-k|2months|  5.7|     EUR|      30|null|\n",
            "| Kruidvat|         NL|     Nappy-k|2months|  5.6|     EUR|      40|null|\n",
            "|    Tesco|        IRL|     Pampers|3months|  6.3|     EUR|      35|null|\n",
            "|       DM|         DE|     Huggies|newborn|  6.8|     EUR|      40|null|\n",
            "|       DM|         AT|     Huggies|newborn|  7.2|     EUR|      40|null|\n",
            "+---------+-----------+------------+-------+-----+--------+--------+----+\n",
            "\n"
          ]
        }
      ]
    },
    {
      "cell_type": "markdown",
      "metadata": {
        "id": "qZvGRBivii21"
      },
      "source": [
        "Utilizar condiciones para afectar valores especificos"
      ]
    },
    {
      "cell_type": "code",
      "metadata": {
        "colab": {
          "base_uri": "https://localhost:8080/"
        },
        "id": "Hotf0Q8bisOg",
        "outputId": "dd17be5c-8a24-4b97-d4a7-c046b81f4aaa"
      },
      "source": [
        "prices4 = spark.read.schema(schema).options(header=\"true\", dateFormat=\"dd/MM/yyyy\").csv(\"prices4.csv\") \n",
        "prices4.show()"
      ],
      "execution_count": 9,
      "outputs": [
        {
          "output_type": "stream",
          "name": "stdout",
          "text": [
            "+---------+-----------+------------+-------+-----+--------+--------+----------+\n",
            "|    store|countrycode|       brand|  model|price|currency|quantity|      date|\n",
            "+---------+-----------+------------+-------+-----+--------+--------+----------+\n",
            "|     Aldi|         BE|Diapers-R-Us|6months| 6.87|     EUR|      40|2025-02-03|\n",
            "| Kruidvat|         BE|     Nappy-k|2months|  4.8|     EUR|      30|2019-01-28|\n",
            "|Carrefour|         FR|     Nappy-k|2months|  5.7|     EUR|      30|      null|\n",
            "| Kruidvat|         NL|     Nappy-k|2months|  5.6|     EUR|      40|2019-02-15|\n",
            "|    Tesco|        IRL|     Pampers|3months|  6.3|     EUR|      35|2019-02-07|\n",
            "|       DM|         DE|     Huggies|newborn|  6.8|     EUR|      40|2025-02-01|\n",
            "|       DM|         AT|     Huggies|newborn|  7.2|     EUR|      40|2019-02-01|\n",
            "+---------+-----------+------------+-------+-----+--------+--------+----------+\n",
            "\n"
          ]
        }
      ]
    },
    {
      "cell_type": "code",
      "metadata": {
        "colab": {
          "base_uri": "https://localhost:8080/"
        },
        "id": "cCg0IcDQkWYD",
        "outputId": "4c67bda8-e16b-4541-e47b-b23048b102bb"
      },
      "source": [
        "from pyspark.sql.functions import col, when\n",
        "from datetime import date\n",
        "one_year_from_now = date.today().replace(year=date.today().year + 1) #fecha actual con un año posterior\n",
        "new_frame = prices4.withColumn(\"date\", when(col(\"date\")> one_year_from_now, None).otherwise(col(\"date\")))\n",
        "new_frame.show()"
      ],
      "execution_count": 10,
      "outputs": [
        {
          "output_type": "stream",
          "name": "stdout",
          "text": [
            "+---------+-----------+------------+-------+-----+--------+--------+----------+\n",
            "|    store|countrycode|       brand|  model|price|currency|quantity|      date|\n",
            "+---------+-----------+------------+-------+-----+--------+--------+----------+\n",
            "|     Aldi|         BE|Diapers-R-Us|6months| 6.87|     EUR|      40|      null|\n",
            "| Kruidvat|         BE|     Nappy-k|2months|  4.8|     EUR|      30|2019-01-28|\n",
            "|Carrefour|         FR|     Nappy-k|2months|  5.7|     EUR|      30|      null|\n",
            "| Kruidvat|         NL|     Nappy-k|2months|  5.6|     EUR|      40|2019-02-15|\n",
            "|    Tesco|        IRL|     Pampers|3months|  6.3|     EUR|      35|2019-02-07|\n",
            "|       DM|         DE|     Huggies|newborn|  6.8|     EUR|      40|      null|\n",
            "|       DM|         AT|     Huggies|newborn|  7.2|     EUR|      40|2019-02-01|\n",
            "+---------+-----------+------------+-------+-----+--------+--------+----------+\n",
            "\n"
          ]
        }
      ]
    },
    {
      "cell_type": "markdown",
      "metadata": {
        "id": "HHMGlfF66aev"
      },
      "source": [
        "filtrar y ordenar filas"
      ]
    },
    {
      "cell_type": "code",
      "metadata": {
        "colab": {
          "base_uri": "https://localhost:8080/"
        },
        "id": "20s5cL8x6eTT",
        "outputId": "0074e787-61fa-4d7e-90bb-4bec8a49c0c2"
      },
      "source": [
        "from pyspark.sql.functions import col\n",
        "pricesBE = prices.filter(col(\"countrycode\")==\"BE\").orderBy(col(\"date\"))\n",
        "pricesBE.show()"
      ],
      "execution_count": 13,
      "outputs": [
        {
          "output_type": "stream",
          "name": "stdout",
          "text": [
            "+--------+-----------+------------+-------+-----+--------+--------+----+\n",
            "|   store|countrycode|       brand|  model|price|currency|quantity|date|\n",
            "+--------+-----------+------------+-------+-----+--------+--------+----+\n",
            "|    Aldi|         BE|Diapers-R-Us|6months|  6.8|     EUR|      40|null|\n",
            "|Kruidvat|         BE|     Nappy-k|2months|  4.8|     EUR|      30|null|\n",
            "+--------+-----------+------------+-------+-----+--------+--------+----+\n",
            "\n"
          ]
        }
      ]
    },
    {
      "cell_type": "markdown",
      "metadata": {
        "id": "l5v49P207Dy1"
      },
      "source": [
        "Seleccionar algunas columnas y renombrarlas"
      ]
    },
    {
      "cell_type": "code",
      "metadata": {
        "colab": {
          "base_uri": "https://localhost:8080/"
        },
        "id": "teIIEvzr7Hnn",
        "outputId": "a9661662-cd59-4b12-f277-41ba5dad32b3"
      },
      "source": [
        "prices.select(col(\"store\"), col(\"brand\").alias(\"brandname\")).show()"
      ],
      "execution_count": 14,
      "outputs": [
        {
          "output_type": "stream",
          "name": "stdout",
          "text": [
            "+---------+------------+\n",
            "|    store|   brandname|\n",
            "+---------+------------+\n",
            "|     Aldi|Diapers-R-Us|\n",
            "| Kruidvat|     Nappy-k|\n",
            "|Carrefour|     Nappy-k|\n",
            "| Kruidvat|     Nappy-k|\n",
            "|    Tesco|     Pampers|\n",
            "|       DM|     Huggies|\n",
            "|       DM|     Huggies|\n",
            "+---------+------------+\n",
            "\n"
          ]
        }
      ]
    },
    {
      "cell_type": "markdown",
      "metadata": {
        "id": "A3VisgwW7dSp"
      },
      "source": [
        "Eliminar filas repetitivas"
      ]
    },
    {
      "cell_type": "code",
      "metadata": {
        "colab": {
          "base_uri": "https://localhost:8080/"
        },
        "id": "O9N_BATB7f1w",
        "outputId": "268fcaea-fa28-48ff-c969-d3e3adc4e9fc"
      },
      "source": [
        "prices.select(col(\"store\"), col(\"brand\").alias(\"brandname\")).distinct().show()"
      ],
      "execution_count": 16,
      "outputs": [
        {
          "output_type": "stream",
          "name": "stdout",
          "text": [
            "+---------+------------+\n",
            "|    store|   brandname|\n",
            "+---------+------------+\n",
            "|       DM|     Huggies|\n",
            "| Kruidvat|     Nappy-k|\n",
            "|Carrefour|     Nappy-k|\n",
            "|     Aldi|Diapers-R-Us|\n",
            "|    Tesco|     Pampers|\n",
            "+---------+------------+\n",
            "\n"
          ]
        }
      ]
    },
    {
      "cell_type": "markdown",
      "metadata": {
        "id": "Okll_TtP75JU"
      },
      "source": [
        "Agrupar"
      ]
    },
    {
      "cell_type": "code",
      "metadata": {
        "colab": {
          "base_uri": "https://localhost:8080/"
        },
        "id": "oIeqQlxn78AO",
        "outputId": "e882d9dd-6263-4a2f-e675-0bf3b17805ce"
      },
      "source": [
        "(prices.groupBy(col(\"brand\")).mean(\"price\")).show()"
      ],
      "execution_count": 17,
      "outputs": [
        {
          "output_type": "stream",
          "name": "stdout",
          "text": [
            "+------------+------------------+\n",
            "|       brand|        avg(price)|\n",
            "+------------+------------------+\n",
            "|Diapers-R-Us| 6.800000190734863|\n",
            "|     Pampers| 6.300000190734863|\n",
            "|     Huggies|               7.0|\n",
            "|     Nappy-k|5.3666666348775225|\n",
            "+------------+------------------+\n",
            "\n"
          ]
        }
      ]
    },
    {
      "cell_type": "markdown",
      "metadata": {
        "id": "b0vMMgqH82SQ"
      },
      "source": [
        "Agregacion"
      ]
    },
    {
      "cell_type": "code",
      "metadata": {
        "colab": {
          "base_uri": "https://localhost:8080/"
        },
        "id": "d-iDVN-g83kE",
        "outputId": "28d20d92-4fcc-4f47-99b3-12ff1073005c"
      },
      "source": [
        "from pyspark.sql.functions import avg, count,stddev_samp, max as sfmax\n",
        "(prices.groupBy(col(\"brand\")).agg(avg(\"price\").alias(\"avg_price\"),count(\"brand\").alias(\"items\"))).show()"
      ],
      "execution_count": 18,
      "outputs": [
        {
          "output_type": "stream",
          "name": "stdout",
          "text": [
            "+------------+------------------+-----+\n",
            "|       brand|         avg_price|items|\n",
            "+------------+------------------+-----+\n",
            "|Diapers-R-Us| 6.800000190734863|    1|\n",
            "|     Pampers| 6.300000190734863|    1|\n",
            "|     Huggies|               7.0|    2|\n",
            "|     Nappy-k|5.3666666348775225|    3|\n",
            "+------------+------------------+-----+\n",
            "\n"
          ]
        }
      ]
    },
    {
      "cell_type": "code",
      "metadata": {
        "colab": {
          "base_uri": "https://localhost:8080/"
        },
        "id": "l2t91oag-Fhx",
        "outputId": "ac735c91-deed-4f78-e275-f7d1201a9df2"
      },
      "source": [
        "ratings = spark.read.options(header=\"true\").csv(\"ratings.csv\")\n",
        "ratings.show()"
      ],
      "execution_count": 19,
      "outputs": [
        {
          "output_type": "stream",
          "name": "stdout",
          "text": [
            "+------------+-------+---------------+-------+\n",
            "|       brand|  model|absorption_rate|comfort|\n",
            "+------------+-------+---------------+-------+\n",
            "|Diapers-R-Us|6months|              2|      3|\n",
            "|     Nappy-k|2months|              3|      4|\n",
            "|     Pampers|3months|              4|      4|\n",
            "|     Huggies|newborn|              3|      5|\n",
            "+------------+-------+---------------+-------+\n",
            "\n"
          ]
        }
      ]
    },
    {
      "cell_type": "code",
      "metadata": {
        "colab": {
          "base_uri": "https://localhost:8080/"
        },
        "id": "ypldRTk4-U-H",
        "outputId": "745f1a4c-8789-4ea4-f0ed-46737e8bff3c"
      },
      "source": [
        "ratings_with_prices = ratings.join(prices, [\"brand\", \"model\"])\n",
        "ratings_with_prices.show()"
      ],
      "execution_count": 20,
      "outputs": [
        {
          "output_type": "stream",
          "name": "stdout",
          "text": [
            "+------------+-------+---------------+-------+---------+-----------+-----+--------+--------+----+\n",
            "|       brand|  model|absorption_rate|comfort|    store|countrycode|price|currency|quantity|date|\n",
            "+------------+-------+---------------+-------+---------+-----------+-----+--------+--------+----+\n",
            "|Diapers-R-Us|6months|              2|      3|     Aldi|         BE|  6.8|     EUR|      40|null|\n",
            "|     Nappy-k|2months|              3|      4| Kruidvat|         BE|  4.8|     EUR|      30|null|\n",
            "|     Nappy-k|2months|              3|      4|Carrefour|         FR|  5.7|     EUR|    null|null|\n",
            "|     Nappy-k|2months|              3|      4| Kruidvat|         NL|  5.6|     EUR|      40|null|\n",
            "|     Pampers|3months|              4|      4|    Tesco|        IRL|  6.3|     EUR|      35|null|\n",
            "|     Huggies|newborn|              3|      5|       DM|         DE|  6.8|     EUR|      40|null|\n",
            "|     Huggies|newborn|              3|      5|       DM|         AT|  7.2|     EUR|      40|null|\n",
            "+------------+-------+---------------+-------+---------+-----------+-----+--------+--------+----+\n",
            "\n"
          ]
        }
      ]
    }
  ]
}